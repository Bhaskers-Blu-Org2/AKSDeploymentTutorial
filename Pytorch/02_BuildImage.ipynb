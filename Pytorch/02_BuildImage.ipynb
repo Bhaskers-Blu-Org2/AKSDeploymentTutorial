{
 "cells": [
  {
   "cell_type": "markdown",
   "metadata": {},
   "source": [
    "# Build Docker image "
   ]
  },
  {
   "cell_type": "markdown",
   "metadata": {},
   "source": [
    "In this notebook, we will build the docker container that contains the ResNet152 model, Flask web application, model driver and all dependencies.\n",
    "Make sure you have logged in using docker login."
   ]
  },
  {
   "cell_type": "code",
   "execution_count": 40,
   "metadata": {},
   "outputs": [],
   "source": [
    "import os\n",
    "from os import path\n",
    "import json\n",
    "import shutil\n",
    "from dotenv import set_key, get_key, find_dotenv\n",
    "from pathlib import Path"
   ]
  },
  {
   "cell_type": "markdown",
   "metadata": {},
   "source": [
    "We are going to use a .env file to store all our information"
   ]
  },
  {
   "cell_type": "code",
   "execution_count": 41,
   "metadata": {},
   "outputs": [],
   "source": [
    "env_path = find_dotenv()\n",
    "if env_path=='':\n",
    "    Path('.env').touch()\n",
    "    env_path = find_dotenv()"
   ]
  },
  {
   "cell_type": "markdown",
   "metadata": {},
   "source": [
    "We will be using the following Docker information to push the image to docker hub. "
   ]
  },
  {
   "cell_type": "code",
   "execution_count": 42,
   "metadata": {},
   "outputs": [
    {
     "data": {
      "text/plain": [
       "(True, 'image_repo', 'pytorch-gpu')"
      ]
     },
     "execution_count": 42,
     "metadata": {},
     "output_type": "execute_result"
    }
   ],
   "source": [
    "set_key(env_path, \"docker_login\", \"masalvar\") # Replace YOUR_DOCKER_LOGIN with your dockerhub login\n",
    "set_key(env_path, \"image_repo\", \"pytorch-gpu\")"
   ]
  },
  {
   "cell_type": "code",
   "execution_count": 43,
   "metadata": {},
   "outputs": [
    {
     "name": "stdout",
     "output_type": "stream",
     "text": [
      "docker_login=\"masalvar\"\r\n",
      "image_repo=\"pytorch-gpu\"\r\n",
      "selected_subscription=\"Team Danielle Internal\"\r\n",
      "resource_group=\"msaksrg\"\r\n",
      "aks_name=\"msaks\"\r\n",
      "location=\"eastus\"\r\n"
     ]
    }
   ],
   "source": [
    "!cat .env"
   ]
  },
  {
   "cell_type": "code",
   "execution_count": 44,
   "metadata": {},
   "outputs": [],
   "source": [
    "os.makedirs(\"flaskwebapp\", exist_ok=True)\n",
    "os.makedirs(os.path.join(\"flaskwebapp\", \"nginx\"), exist_ok=True)\n",
    "os.makedirs(os.path.join(\"flaskwebapp\", \"etc\"), exist_ok=True)"
   ]
  },
  {
   "cell_type": "code",
   "execution_count": 149,
   "metadata": {},
   "outputs": [
    {
     "data": {
      "text/plain": [
       "['synset.txt',\n",
       " 'etc',\n",
       " 'driver.py',\n",
       " 'dockerfile',\n",
       " 'kill_supervisor.py',\n",
       " 'requirements.txt',\n",
       " 'app.py',\n",
       " 'gunicorn_logging.conf',\n",
       " 'wsgi.py',\n",
       " 'nginx']"
      ]
     },
     "execution_count": 149,
     "metadata": {},
     "output_type": "execute_result"
    }
   ],
   "source": [
    "shutil.copy(\"synset.txt\", \"flaskwebapp\")\n",
    "shutil.copy(\"driver.py\", \"flaskwebapp\")\n",
    "os.listdir(\"flaskwebapp\")"
   ]
  },
  {
   "cell_type": "markdown",
   "metadata": {},
   "source": [
    "Below, we create the module for the Flask web application."
   ]
  },
  {
   "cell_type": "code",
   "execution_count": 168,
   "metadata": {},
   "outputs": [
    {
     "name": "stdout",
     "output_type": "stream",
     "text": [
      "Overwriting flaskwebapp/app.py\n"
     ]
    }
   ],
   "source": [
    "%%writefile flaskwebapp/app.py\n",
    "\n",
    "from flask import Flask, request, Response\n",
    "import logging\n",
    "import json\n",
    "import driver\n",
    "\n",
    "app = Flask(__name__)\n",
    "predict_for = driver.get_model_api()\n",
    "\n",
    "if __name__ != \"__main__\":\n",
    "    gunicorn_logger = logging.getLogger(\"gunicorn.error\")\n",
    "    app.logger.handlers = gunicorn_logger.handlers\n",
    "    app.logger.setLevel(gunicorn_logger.level)\n",
    "    \n",
    " \n",
    "@app.route(\"/score\", methods = ['POST'])\n",
    "def scoreRRS():\n",
    "    \"\"\" Endpoint for scoring\n",
    "    \"\"\"\n",
    "    if len(request.files)>0:\n",
    "        response = predict_for(request.files)\n",
    "        return json.dumps({'result': response})\n",
    "    else:\n",
    "        app.logger.warning('Error: No files were sent')\n",
    "        return Response(json.dumps('Error: No files were sent'), status= 415, mimetype ='application/json') \n",
    "   \n",
    "            \n",
    "@app.route(\"/\")\n",
    "def healthy():\n",
    "    return \"Healthy\"\n",
    "\n",
    "# PyTorch version\n",
    "@app.route('/version', methods = ['GET'])\n",
    "def version_request():\n",
    "    return driver.version()\n",
    "\n",
    "if __name__ == \"__main__\":\n",
    "    app.run(host='0.0.0.0', port=5000)"
   ]
  },
  {
   "cell_type": "code",
   "execution_count": 155,
   "metadata": {},
   "outputs": [
    {
     "name": "stdout",
     "output_type": "stream",
     "text": [
      "Overwriting flaskwebapp/wsgi.py\n"
     ]
    }
   ],
   "source": [
    "%%writefile flaskwebapp/wsgi.py\n",
    "from app import app as application\n",
    "\n",
    "def create():\n",
    "    print(\"Initialising\")\n",
    "    application.run(host='127.0.0.1', port=5000)"
   ]
  },
  {
   "cell_type": "markdown",
   "metadata": {},
   "source": [
    "Here, we write the configuration for the Nginx which creates a proxy between ports **80** and **5000**."
   ]
  },
  {
   "cell_type": "code",
   "execution_count": 156,
   "metadata": {},
   "outputs": [
    {
     "name": "stdout",
     "output_type": "stream",
     "text": [
      "Overwriting flaskwebapp/nginx/app\n"
     ]
    }
   ],
   "source": [
    "%%writefile flaskwebapp/nginx/app\n",
    "server {\n",
    "    listen 80;\n",
    "    server_name _;\n",
    " \n",
    "    location / {\n",
    "    include proxy_params;\n",
    "    proxy_pass http://127.0.0.1:5000;\n",
    "    proxy_connect_timeout 5000s;\n",
    "    proxy_read_timeout 5000s;\n",
    "  }\n",
    "}"
   ]
  },
  {
   "cell_type": "code",
   "execution_count": 169,
   "metadata": {},
   "outputs": [
    {
     "name": "stdout",
     "output_type": "stream",
     "text": [
      "Overwriting flaskwebapp/gunicorn_logging.conf\n"
     ]
    }
   ],
   "source": [
    "%%writefile flaskwebapp/gunicorn_logging.conf\n",
    "\n",
    "[loggers]\n",
    "keys=root, gunicorn.error\n",
    "\n",
    "[handlers]\n",
    "keys=console\n",
    "\n",
    "[formatters]\n",
    "keys=json\n",
    "\n",
    "[logger_root]\n",
    "level=INFO\n",
    "handlers=console\n",
    "\n",
    "[logger_gunicorn.error]\n",
    "level=INFO\n",
    "handlers=console\n",
    "propagate=0\n",
    "qualname=gunicorn.error\n",
    "\n",
    "[handler_console]\n",
    "class=StreamHandler\n",
    "formatter=json\n",
    "args=(sys.stdout, )\n",
    "\n",
    "[formatter_json]\n",
    "class=jsonlogging.JSONFormatter"
   ]
  },
  {
   "cell_type": "code",
   "execution_count": 170,
   "metadata": {},
   "outputs": [
    {
     "name": "stdout",
     "output_type": "stream",
     "text": [
      "Overwriting flaskwebapp/kill_supervisor.py\n"
     ]
    }
   ],
   "source": [
    "%%writefile flaskwebapp/kill_supervisor.py\n",
    "import sys\n",
    "import os\n",
    "import signal\n",
    "\n",
    "def write_stdout(s):\n",
    "    sys.stdout.write(s)\n",
    "    sys.stdout.flush()\n",
    "\n",
    "# this function is modified from the code and knowledge found here: http://supervisord.org/events.html#example-event-listener-implementation\n",
    "def main():\n",
    "    while 1:\n",
    "        write_stdout('READY\\n')\n",
    "        # wait for the event on stdin that supervisord will send\n",
    "        line = sys.stdin.readline()\n",
    "        write_stdout('Killing supervisor with this event: ' + line);\n",
    "        try:\n",
    "            # supervisord writes its pid to its file from which we read it here, see supervisord.conf\n",
    "            pidfile = open('/tmp/supervisord.pid','r')\n",
    "            pid = int(pidfile.readline());\n",
    "            os.kill(pid, signal.SIGQUIT)\n",
    "        except Exception as e:\n",
    "            write_stdout('Could not kill supervisor: ' + e.strerror + '\\n')\n",
    "            write_stdout('RESULT 2\\nOK')\n",
    "\n",
    "main()"
   ]
  },
  {
   "cell_type": "code",
   "execution_count": 171,
   "metadata": {},
   "outputs": [
    {
     "name": "stdout",
     "output_type": "stream",
     "text": [
      "Overwriting flaskwebapp/etc/supervisord.conf\n"
     ]
    }
   ],
   "source": [
    "%%writefile flaskwebapp/etc/supervisord.conf \n",
    "[supervisord]\n",
    "logfile=/tmp/supervisord.log ; (main log file;default $CWD/supervisord.log)\n",
    "logfile_maxbytes=50MB        ; (max main logfile bytes b4 rotation;default 50MB)\n",
    "logfile_backups=10           ; (num of main logfile rotation backups;default 10)\n",
    "loglevel=info                ; (log level;default info; others: debug,warn,trace)\n",
    "pidfile=/tmp/supervisord.pid ; (supervisord pidfile;default supervisord.pid)\n",
    "nodaemon=true                ; (start in foreground if true;default false)\n",
    "minfds=1024                  ; (min. avail startup file descriptors;default 1024)\n",
    "minprocs=200                 ; (min. avail process descriptors;default 200)\n",
    "\n",
    "[program:gunicorn]\n",
    "command=bash -c \"gunicorn --workers 1 -m 007 --timeout 100000 --capture-output --error-logfile - --log-level debug --log-config gunicorn_logging.conf \\\"wsgi:create()\\\"\"\n",
    "directory=/code\n",
    "redirect_stderr=true\n",
    "stdout_logfile =/dev/stdout\n",
    "stdout_logfile_maxbytes=0\n",
    "startretries=2\n",
    "startsecs=20\n",
    "\n",
    "[program:nginx]\n",
    "command=/usr/sbin/nginx -g \"daemon off;\"\n",
    "startretries=2\n",
    "startsecs=5\n",
    "priority=3\n",
    "\n",
    "[eventlistener:program_exit]\n",
    "command=python kill_supervisor.py\n",
    "directory=/code\n",
    "events=PROCESS_STATE_FATAL\n",
    "priority=2"
   ]
  },
  {
   "cell_type": "markdown",
   "metadata": {},
   "source": [
    "We create a custom image based on the CUDA 9 image from NVIDIA and install all the necessary dependencies. This is in order to try and keep the size of the image as small as possible."
   ]
  },
  {
   "cell_type": "code",
   "execution_count": 172,
   "metadata": {},
   "outputs": [
    {
     "name": "stdout",
     "output_type": "stream",
     "text": [
      "Overwriting flaskwebapp/requirements.txt\n"
     ]
    }
   ],
   "source": [
    "%%writefile flaskwebapp/requirements.txt\n",
    "Pillow==5.0.0\n",
    "click==6.7\n",
    "configparser==3.5.0\n",
    "Flask==0.12.2\n",
    "gunicorn==19.6.0\n",
    "json-logging-py==0.2\n",
    "MarkupSafe==1.0\n",
    "olefile==0.44\n",
    "requests==2.12.3"
   ]
  },
  {
   "cell_type": "code",
   "execution_count": 173,
   "metadata": {},
   "outputs": [
    {
     "name": "stdout",
     "output_type": "stream",
     "text": [
      "Overwriting flaskwebapp/dockerfile\n"
     ]
    }
   ],
   "source": [
    "%%writefile flaskwebapp/dockerfile\n",
    "\n",
    "FROM nvidia/cuda:9.0-cudnn7-devel-ubuntu16.04\n",
    "\n",
    "RUN echo \"deb http://developer.download.nvidia.com/compute/machine-learning/repos/ubuntu1604/x86_64 /\" > /etc/apt/sources.list.d/nvidia-ml.list\n",
    "\n",
    "ADD etc /etc\n",
    "\n",
    "RUN apt-get update && apt-get install -y --no-install-recommends \\\n",
    "        build-essential \\\n",
    "        ca-certificates \\\n",
    "        cmake \\\n",
    "        curl \\\n",
    "        git \\\n",
    "        nginx \\\n",
    "        supervisor \\\n",
    "        wget && \\\n",
    "        rm -rf /var/lib/apt/lists/*\n",
    "\n",
    "\n",
    "ENV PYTHON_VERSION=3.6\n",
    "RUN curl -o ~/miniconda.sh -O  https://repo.continuum.io/miniconda/Miniconda3-latest-Linux-x86_64.sh  && \\\n",
    "    chmod +x ~/miniconda.sh && \\\n",
    "    ~/miniconda.sh -b -p /opt/conda && \\\n",
    "    rm ~/miniconda.sh && \\\n",
    "    /opt/conda/bin/conda create -y --name py$PYTHON_VERSION python=$PYTHON_VERSION numpy scipy pandas scikit-learn && \\\n",
    "    /opt/conda/bin/conda clean -ya\n",
    "ENV PATH /opt/conda/envs/py$PYTHON_VERSION/bin:$PATH\n",
    "ENV LD_LIBRARY_PATH /opt/conda/envs/py$PYTHON_VERSION/lib:/usr/local/cuda/lib64/:$LD_LIBRARY_PATH\n",
    "ENV PYTHONPATH /code/:$PYTHONPATH\n",
    "\n",
    "\n",
    "\n",
    "RUN /opt/conda/bin/conda install -c pytorch pytorch==0.4.1 && \\\n",
    "    pip install --upgrade pip && \\\n",
    "    pip install torchvision==0.2.1\n",
    "\n",
    "\n",
    "RUN mkdir /code\n",
    "WORKDIR /code\n",
    "ADD . /code/\n",
    "\n",
    "RUN pip install -r /code/requirements.txt && \\       \n",
    "    /opt/conda/bin/conda clean -yt\n",
    "\n",
    "RUN rm /etc/nginx/sites-enabled/default && \\\n",
    "    cp /code/nginx/app /etc/nginx/sites-available/ && \\\n",
    "    ln -s /etc/nginx/sites-available/app /etc/nginx/sites-enabled/ \n",
    "\n",
    "\n",
    "\n",
    "EXPOSE 80\n",
    "CMD [\"supervisord\", \"-c\", \"/code/etc/supervisord.conf\"]"
   ]
  },
  {
   "cell_type": "markdown",
   "metadata": {},
   "source": [
    "The image name below refers to our dockerhub account. If you wish to push the image to your account make sure you change the docker login."
   ]
  },
  {
   "cell_type": "code",
   "execution_count": 174,
   "metadata": {},
   "outputs": [],
   "source": [
    "image_name = get_key(env_path, 'docker_login') + '/' +get_key(env_path, 'image_repo') \n",
    "application_path = 'flaskwebapp'\n",
    "docker_file_location = path.join(application_path, 'dockerfile')"
   ]
  },
  {
   "cell_type": "markdown",
   "metadata": {},
   "source": [
    "Next, we build our docker image. The output of this cell is cleared from this notebook as it is quite long due to all the installations required to build the image. However, you should make sure you see 'Successfully built' and 'Successfully tagged' messages in the last line of the output when you run the cell. "
   ]
  },
  {
   "cell_type": "code",
   "execution_count": 175,
   "metadata": {
    "scrolled": true
   },
   "outputs": [
    {
     "name": "stdout",
     "output_type": "stream",
     "text": [
      "Sending build context to Docker daemon  50.18kB\n",
      "Step 1/17 : FROM nvidia/cuda:9.0-cudnn7-devel-ubuntu16.04\n",
      " ---> ed1be95f3fce\n",
      "Step 2/17 : RUN echo \"deb http://developer.download.nvidia.com/compute/machine-learning/repos/ubuntu1604/x86_64 /\" > /etc/apt/sources.list.d/nvidia-ml.list\n",
      " ---> Using cache\n",
      " ---> 98115cf860e6\n",
      "Step 3/17 : ADD etc /etc\n",
      " ---> Using cache\n",
      " ---> 97046eb53680\n",
      "Step 4/17 : RUN apt-get update && apt-get install -y --no-install-recommends         build-essential         ca-certificates         cmake         curl         git         nginx         supervisor         wget &&         rm -rf /var/lib/apt/lists/*\n",
      " ---> Using cache\n",
      " ---> acc001843a1c\n",
      "Step 5/17 : ENV PYTHON_VERSION=3.6\n",
      " ---> Using cache\n",
      " ---> cbae83ce7a50\n",
      "Step 6/17 : RUN curl -o ~/miniconda.sh -O  https://repo.continuum.io/miniconda/Miniconda3-latest-Linux-x86_64.sh  &&     chmod +x ~/miniconda.sh &&     ~/miniconda.sh -b -p /opt/conda &&     rm ~/miniconda.sh &&     /opt/conda/bin/conda create -y --name py$PYTHON_VERSION python=$PYTHON_VERSION numpy scipy pandas scikit-learn &&     /opt/conda/bin/conda clean -ya\n",
      " ---> Using cache\n",
      " ---> 062d14aec8e3\n",
      "Step 7/17 : ENV PATH /opt/conda/envs/py$PYTHON_VERSION/bin:$PATH\n",
      " ---> Using cache\n",
      " ---> e718f44264d7\n",
      "Step 8/17 : ENV LD_LIBRARY_PATH /opt/conda/envs/py$PYTHON_VERSION/lib:/usr/local/cuda/lib64/:$LD_LIBRARY_PATH\n",
      " ---> Using cache\n",
      " ---> bb7947243f81\n",
      "Step 9/17 : ENV PYTHONPATH /code/:$PYTHONPATH\n",
      " ---> Using cache\n",
      " ---> e0a6319145c8\n",
      "Step 10/17 : RUN /opt/conda/bin/conda install -c pytorch pytorch==0.4.1 &&     pip install --upgrade pip &&     pip install torchvision==0.2.1\n",
      " ---> Using cache\n",
      " ---> f53370aee567\n",
      "Step 11/17 : RUN mkdir /code\n",
      " ---> Using cache\n",
      " ---> 166d58d2f1c0\n",
      "Step 12/17 : WORKDIR /code\n",
      " ---> Using cache\n",
      " ---> 1125ccb9f047\n",
      "Step 13/17 : ADD . /code/\n",
      " ---> 7c58dfeed16b\n",
      "Step 14/17 : RUN pip install -r /code/requirements.txt &&     /opt/conda/bin/conda clean -yt\n",
      " ---> Running in 3d6294aaea9a\n",
      "Collecting Pillow==5.0.0 (from -r /code/requirements.txt (line 1))\n",
      "  Downloading https://files.pythonhosted.org/packages/9a/2f/86941111d108fd060190c994f15881283b98693c1c370e74885cfc470eb3/Pillow-5.0.0-cp36-cp36m-manylinux1_x86_64.whl (5.9MB)\n",
      "Collecting click==6.7 (from -r /code/requirements.txt (line 2))\n",
      "  Downloading https://files.pythonhosted.org/packages/34/c1/8806f99713ddb993c5366c362b2f908f18269f8d792aff1abfd700775a77/click-6.7-py2.py3-none-any.whl (71kB)\n",
      "Collecting configparser==3.5.0 (from -r /code/requirements.txt (line 3))\n",
      "  Downloading https://files.pythonhosted.org/packages/7c/69/c2ce7e91c89dc073eb1aa74c0621c3eefbffe8216b3f9af9d3885265c01c/configparser-3.5.0.tar.gz\n",
      "Collecting Flask==0.12.2 (from -r /code/requirements.txt (line 4))\n",
      "  Downloading https://files.pythonhosted.org/packages/77/32/e3597cb19ffffe724ad4bf0beca4153419918e7fa4ba6a34b04ee4da3371/Flask-0.12.2-py2.py3-none-any.whl (83kB)\n",
      "Collecting gunicorn==19.6.0 (from -r /code/requirements.txt (line 5))\n",
      "  Downloading https://files.pythonhosted.org/packages/72/de/ec28a64885e0b390063379cca601b60b1f9e51367e0c76030ac8a5cddd5e/gunicorn-19.6.0-py2.py3-none-any.whl (114kB)\n",
      "Collecting json-logging-py==0.2 (from -r /code/requirements.txt (line 6))\n",
      "  Downloading https://files.pythonhosted.org/packages/e9/e1/46c70eebf216b830867c4896ee678cb7f1b28bb68a2810c7e9a811cecfbc/json-logging-py-0.2.tar.gz\n",
      "Collecting MarkupSafe==1.0 (from -r /code/requirements.txt (line 7))\n",
      "  Downloading https://files.pythonhosted.org/packages/4d/de/32d741db316d8fdb7680822dd37001ef7a448255de9699ab4bfcbdf4172b/MarkupSafe-1.0.tar.gz\n",
      "Collecting olefile==0.44 (from -r /code/requirements.txt (line 8))\n",
      "  Downloading https://files.pythonhosted.org/packages/35/17/c15d41d5a8f8b98cc3df25eb00c5cee76193114c78e5674df6ef4ac92647/olefile-0.44.zip (74kB)\n",
      "Collecting requests==2.12.3 (from -r /code/requirements.txt (line 9))\n",
      "  Downloading https://files.pythonhosted.org/packages/84/68/f0acceafe80354aa9ff4ae49de0572d27929b6d262f0c55196424eb86b2f/requests-2.12.3-py2.py3-none-any.whl (575kB)\n",
      "Collecting Jinja2>=2.4 (from Flask==0.12.2->-r /code/requirements.txt (line 4))\n",
      "  Downloading https://files.pythonhosted.org/packages/7f/ff/ae64bacdfc95f27a016a7bed8e8686763ba4d277a78ca76f32659220a731/Jinja2-2.10-py2.py3-none-any.whl (126kB)\n",
      "Collecting Werkzeug>=0.7 (from Flask==0.12.2->-r /code/requirements.txt (line 4))\n",
      "  Downloading https://files.pythonhosted.org/packages/20/c4/12e3e56473e52375aa29c4764e70d1b8f3efa6682bef8d0aae04fe335243/Werkzeug-0.14.1-py2.py3-none-any.whl (322kB)\n",
      "Collecting itsdangerous>=0.21 (from Flask==0.12.2->-r /code/requirements.txt (line 4))\n",
      "  Downloading https://files.pythonhosted.org/packages/dc/b4/a60bcdba945c00f6d608d8975131ab3f25b22f2bcfe1dab221165194b2d4/itsdangerous-0.24.tar.gz (46kB)\n",
      "Building wheels for collected packages: configparser, json-logging-py, MarkupSafe, olefile, itsdangerous\n",
      "  Running setup.py bdist_wheel for configparser: started\n",
      "  Running setup.py bdist_wheel for configparser: finished with status 'done'\n",
      "  Stored in directory: /root/.cache/pip/wheels/a3/61/79/424ef897a2f3b14684a7de5d89e8600b460b89663e6ce9d17c\n",
      "  Running setup.py bdist_wheel for json-logging-py: started\n",
      "  Running setup.py bdist_wheel for json-logging-py: finished with status 'done'\n",
      "  Stored in directory: /root/.cache/pip/wheels/0d/2e/1c/c638b7589610d8b9358a6e5eb008edacb8b3e9b6d1edc9479f\n",
      "  Running setup.py bdist_wheel for MarkupSafe: started\n",
      "  Running setup.py bdist_wheel for MarkupSafe: finished with status 'done'\n",
      "  Stored in directory: /root/.cache/pip/wheels/33/56/20/ebe49a5c612fffe1c5a632146b16596f9e64676768661e4e46\n",
      "  Running setup.py bdist_wheel for olefile: started\n",
      "  Running setup.py bdist_wheel for olefile: finished with status 'done'\n",
      "  Stored in directory: /root/.cache/pip/wheels/c4/19/76/61fc7929d808e51567aff23036ca5fe6ba8336ad0559ca6a27\n",
      "  Running setup.py bdist_wheel for itsdangerous: started\n",
      "  Running setup.py bdist_wheel for itsdangerous: finished with status 'done'\n",
      "  Stored in directory: /root/.cache/pip/wheels/2c/4a/61/5599631c1554768c6290b08c02c72d7317910374ca602ff1e5\n",
      "Successfully built configparser json-logging-py MarkupSafe olefile itsdangerous\n",
      "Installing collected packages: Pillow, click, configparser, MarkupSafe, Jinja2, Werkzeug, itsdangerous, Flask, gunicorn, json-logging-py, olefile, requests\n",
      "  Found existing installation: Pillow 5.3.0\n",
      "    Uninstalling Pillow-5.3.0:\n",
      "      Successfully uninstalled Pillow-5.3.0\n",
      "Successfully installed Flask-0.12.2 Jinja2-2.10 MarkupSafe-1.0 Pillow-5.0.0 Werkzeug-0.14.1 click-6.7 configparser-3.5.0 gunicorn-19.6.0 itsdangerous-0.24 json-logging-py-0.2 olefile-0.44 requests-2.12.3\n",
      "Cache location: /opt/conda/pkgs\n",
      "Will remove the following tarballs:\n",
      "\n",
      "/opt/conda/pkgs\n",
      "---------------\n",
      "mkl_random-1.0.1-py37h4414c95_1.tar.bz2      372 KB\n",
      "pytorch-0.4.1-py37_py36_py35_py27__9.0.176_7.1.2_2.tar.bz2   471.7 MB\n",
      "blas-1.0-mkl.tar.bz2                           6 KB\n",
      "numpy-base-1.15.2-py37h81de0dd_1.tar.bz2     4.2 MB\n",
      "mkl_fft-1.0.6-py37h7dd41cf_0.tar.bz2         150 KB\n",
      "numpy-1.15.2-py37h1d66e8a_1.tar.bz2           48 KB\n",
      "ninja-1.8.2-py37h6bb024c_1.tar.bz2           1.3 MB\n",
      "\n",
      "---------------------------------------------------\n",
      "Total:                                     477.8 MB\n",
      "\n",
      "Removed mkl_random-1.0.1-py37h4414c95_1.tar.bz2\n",
      "Removed pytorch-0.4.1-py37_py36_py35_py27__9.0.176_7.1.2_2.tar.bz2\n",
      "Removed blas-1.0-mkl.tar.bz2\n",
      "Removed numpy-base-1.15.2-py37h81de0dd_1.tar.bz2\n",
      "Removed mkl_fft-1.0.6-py37h7dd41cf_0.tar.bz2\n",
      "Removed numpy-1.15.2-py37h1d66e8a_1.tar.bz2\n",
      "Removed ninja-1.8.2-py37h6bb024c_1.tar.bz2\n",
      "Removing intermediate container 3d6294aaea9a\n",
      " ---> e4210dd9d290\n",
      "Step 15/17 : RUN rm /etc/nginx/sites-enabled/default &&     cp /code/nginx/app /etc/nginx/sites-available/ &&     ln -s /etc/nginx/sites-available/app /etc/nginx/sites-enabled/\n",
      " ---> Running in 8f504481af72\n",
      "Removing intermediate container 8f504481af72\n",
      " ---> 31fffe94d2c8\n",
      "Step 16/17 : EXPOSE 80\n",
      " ---> Running in f6e1d67a514e\n",
      "Removing intermediate container f6e1d67a514e\n",
      " ---> 9c557ac4c7a2\n",
      "Step 17/17 : CMD [\"supervisord\", \"-c\", \"/code/etc/supervisord.conf\"]\n",
      " ---> Running in 89102da7beb6\n",
      "Removing intermediate container 89102da7beb6\n",
      " ---> 15c7554544a2\n",
      "Successfully built 15c7554544a2\n",
      "Successfully tagged masalvar/pytorch-gpu:latest\n"
     ]
    }
   ],
   "source": [
    "!docker build -t $image_name -f $docker_file_location $application_path"
   ]
  },
  {
   "cell_type": "markdown",
   "metadata": {},
   "source": [
    "Below we will push the image created to our dockerhub registry. Make sure you have already logged in to the appropriate dockerhub account using the docker login command. If you haven't loged in to the approrpiate dockerhub account you will get an error."
   ]
  },
  {
   "cell_type": "code",
   "execution_count": null,
   "metadata": {},
   "outputs": [],
   "source": [
    "!docker push $image_name"
   ]
  },
  {
   "cell_type": "code",
   "execution_count": null,
   "metadata": {},
   "outputs": [],
   "source": [
    "print('Docker image name {}'.format(image_name))"
   ]
  },
  {
   "cell_type": "markdown",
   "metadata": {},
   "source": [
    "We can now [test our image locally](03_TestLocally.ipynb)."
   ]
  }
 ],
 "metadata": {
  "jupytext_format_version": "1.3",
  "jupytext_formats": "py:light",
  "kernelspec": {
   "display_name": "Python [conda env:AKSDeploymentPytorch]",
   "language": "python",
   "name": "conda-env-AKSDeploymentPytorch-py"
  },
  "language_info": {
   "codemirror_mode": {
    "name": "ipython",
    "version": 3
   },
   "file_extension": ".py",
   "mimetype": "text/x-python",
   "name": "python",
   "nbconvert_exporter": "python",
   "pygments_lexer": "ipython3",
   "version": "3.6.6"
  }
 },
 "nbformat": 4,
 "nbformat_minor": 2
}
